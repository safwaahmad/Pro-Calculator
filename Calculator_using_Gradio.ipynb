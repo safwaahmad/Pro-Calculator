{
  "nbformat": 4,
  "nbformat_minor": 0,
  "metadata": {
    "colab": {
      "provenance": []
    },
    "kernelspec": {
      "name": "python3",
      "display_name": "Python 3"
    },
    "language_info": {
      "name": "python"
    }
  },
  "cells": [
    {
      "cell_type": "code",
      "source": [
        "!pip install gradio\n"
      ],
      "metadata": {
        "id": "kIWX8BNT3fsb"
      },
      "execution_count": null,
      "outputs": []
    },
    {
      "cell_type": "code",
      "execution_count": 7,
      "metadata": {
        "colab": {
          "base_uri": "https://localhost:8080/",
          "height": 646
        },
        "id": "JrlGXu8U3Bfl",
        "outputId": "46ba81ed-b72c-4f8d-8f8f-fadd0cd791c2"
      },
      "outputs": [
        {
          "output_type": "stream",
          "name": "stdout",
          "text": [
            "Setting queue=True in a Colab notebook requires sharing enabled. Setting `share=True` (you can turn this off by setting `share=False` in `launch()` explicitly).\n",
            "\n",
            "Colab notebook detected. To show errors in colab notebook, set debug=True in launch()\n",
            "Running on public URL: https://f6579d0493b2150526.gradio.live\n",
            "\n",
            "This share link expires in 72 hours. For free permanent hosting and GPU upgrades, run `gradio deploy` from Terminal to deploy to Spaces (https://huggingface.co/spaces)\n"
          ]
        },
        {
          "output_type": "display_data",
          "data": {
            "text/plain": [
              "<IPython.core.display.HTML object>"
            ],
            "text/html": [
              "<div><iframe src=\"https://f6579d0493b2150526.gradio.live\" width=\"100%\" height=\"500\" allow=\"autoplay; camera; microphone; clipboard-read; clipboard-write;\" frameborder=\"0\" allowfullscreen></iframe></div>"
            ]
          },
          "metadata": {}
        },
        {
          "output_type": "execute_result",
          "data": {
            "text/plain": []
          },
          "metadata": {},
          "execution_count": 7
        }
      ],
      "source": [
        "# First, make sure to install Gradio\n",
        "import gradio as gr\n",
        "\n",
        "def calculator(a, b, operation):\n",
        "    if operation == \"Add\":\n",
        "        return a + b\n",
        "    elif operation == \"Subtract\":\n",
        "        return a - b\n",
        "    elif operation == \"Multiply\":\n",
        "        return a * b\n",
        "    elif operation == \"Divide\":\n",
        "        return a / b if b != 0 else \"Cannot divide by zero\"\n",
        "\n",
        "# Create the Gradio interface\n",
        "iface = gr.Interface(\n",
        "    fn=calculator,\n",
        "    inputs=[\n",
        "        gr.Number(label=\"Number 1\"),\n",
        "        gr.Number(label=\"Number 2\"),\n",
        "        gr.Radio([\"Add\", \"Subtract\", \"Multiply\", \"Divide\"], label=\"Operation\"),\n",
        "    ],\n",
        "    outputs=\"text\",\n",
        "    title=\"Simple Calculator\",\n",
        "    description=\"Enter two numbers and select an operation.\"\n",
        ")\n",
        "\n",
        "# Launch the interface\n",
        "iface.launch()\n"
      ]
    },
    {
      "cell_type": "code",
      "source": [],
      "metadata": {
        "id": "t6nhiffd5OCU"
      },
      "execution_count": null,
      "outputs": []
    }
  ]
}